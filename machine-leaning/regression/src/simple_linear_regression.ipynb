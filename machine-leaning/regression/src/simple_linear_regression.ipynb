{
 "cells": [
  {
   "cell_type": "code",
   "execution_count": 28,
   "id": "6eab1235",
   "metadata": {},
   "outputs": [],
   "source": [
    "import pandas as pd            # for working with data\n",
    "import numpy as np             # for numerical calculations\n",
    "import matplotlib.pyplot as plt  # for making graphs\n",
    "from sklearn.linear_model import LinearRegression  # the regression model\n",
    "from sklearn.model_selection import train_test_split  # for splitting the data\n",
    "from sklearn.metrics import r2_score  # to measure model performance\n"
   ]
  },
  {
   "cell_type": "code",
   "execution_count": 29,
   "id": "10b881a9",
   "metadata": {},
   "outputs": [
    {
     "data": {
      "application/vnd.microsoft.datawrangler.viewer.v0+json": {
       "columns": [
        {
         "name": "index",
         "rawType": "int64",
         "type": "integer"
        },
        {
         "name": "mpg",
         "rawType": "float64",
         "type": "float"
        },
        {
         "name": "cylinders",
         "rawType": "int64",
         "type": "integer"
        },
        {
         "name": "displacement",
         "rawType": "float64",
         "type": "float"
        },
        {
         "name": "horsepower",
         "rawType": "float64",
         "type": "float"
        },
        {
         "name": "weight",
         "rawType": "int64",
         "type": "integer"
        },
        {
         "name": "acceleration",
         "rawType": "float64",
         "type": "float"
        },
        {
         "name": "age",
         "rawType": "int64",
         "type": "integer"
        }
       ],
       "ref": "b8572870-7f88-465a-bc81-9bc47c70ab54",
       "rows": [
        [
         "180",
         "18.6",
         "6",
         "225.0",
         "110.0",
         "3620",
         "18.7",
         "47"
        ],
        [
         "174",
         "23.9",
         "4",
         "119.0",
         "97.0",
         "2405",
         "14.9",
         "47"
        ],
        [
         "141",
         "46.6",
         "4",
         "86.0",
         "65.0",
         "2110",
         "17.9",
         "45"
        ],
        [
         "259",
         "18.1",
         "8",
         "302.0",
         "139.0",
         "3205",
         "11.2",
         "47"
        ],
        [
         "208",
         "23.0",
         "4",
         "120.0",
         "97.0",
         "2506",
         "14.5",
         "53"
        ]
       ],
       "shape": {
        "columns": 7,
        "rows": 5
       }
      },
      "text/html": [
       "<div>\n",
       "<style scoped>\n",
       "    .dataframe tbody tr th:only-of-type {\n",
       "        vertical-align: middle;\n",
       "    }\n",
       "\n",
       "    .dataframe tbody tr th {\n",
       "        vertical-align: top;\n",
       "    }\n",
       "\n",
       "    .dataframe thead th {\n",
       "        text-align: right;\n",
       "    }\n",
       "</style>\n",
       "<table border=\"1\" class=\"dataframe\">\n",
       "  <thead>\n",
       "    <tr style=\"text-align: right;\">\n",
       "      <th></th>\n",
       "      <th>mpg</th>\n",
       "      <th>cylinders</th>\n",
       "      <th>displacement</th>\n",
       "      <th>horsepower</th>\n",
       "      <th>weight</th>\n",
       "      <th>acceleration</th>\n",
       "      <th>age</th>\n",
       "    </tr>\n",
       "  </thead>\n",
       "  <tbody>\n",
       "    <tr>\n",
       "      <th>180</th>\n",
       "      <td>18.6</td>\n",
       "      <td>6</td>\n",
       "      <td>225.0</td>\n",
       "      <td>110.0</td>\n",
       "      <td>3620</td>\n",
       "      <td>18.7</td>\n",
       "      <td>47</td>\n",
       "    </tr>\n",
       "    <tr>\n",
       "      <th>174</th>\n",
       "      <td>23.9</td>\n",
       "      <td>4</td>\n",
       "      <td>119.0</td>\n",
       "      <td>97.0</td>\n",
       "      <td>2405</td>\n",
       "      <td>14.9</td>\n",
       "      <td>47</td>\n",
       "    </tr>\n",
       "    <tr>\n",
       "      <th>141</th>\n",
       "      <td>46.6</td>\n",
       "      <td>4</td>\n",
       "      <td>86.0</td>\n",
       "      <td>65.0</td>\n",
       "      <td>2110</td>\n",
       "      <td>17.9</td>\n",
       "      <td>45</td>\n",
       "    </tr>\n",
       "    <tr>\n",
       "      <th>259</th>\n",
       "      <td>18.1</td>\n",
       "      <td>8</td>\n",
       "      <td>302.0</td>\n",
       "      <td>139.0</td>\n",
       "      <td>3205</td>\n",
       "      <td>11.2</td>\n",
       "      <td>47</td>\n",
       "    </tr>\n",
       "    <tr>\n",
       "      <th>208</th>\n",
       "      <td>23.0</td>\n",
       "      <td>4</td>\n",
       "      <td>120.0</td>\n",
       "      <td>97.0</td>\n",
       "      <td>2506</td>\n",
       "      <td>14.5</td>\n",
       "      <td>53</td>\n",
       "    </tr>\n",
       "  </tbody>\n",
       "</table>\n",
       "</div>"
      ],
      "text/plain": [
       "      mpg  cylinders  displacement  horsepower  weight  acceleration  age\n",
       "180  18.6          6         225.0       110.0    3620          18.7   47\n",
       "174  23.9          4         119.0        97.0    2405          14.9   47\n",
       "141  46.6          4          86.0        65.0    2110          17.9   45\n",
       "259  18.1          8         302.0       139.0    3205          11.2   47\n",
       "208  23.0          4         120.0        97.0    2506          14.5   53"
      ]
     },
     "execution_count": 29,
     "metadata": {},
     "output_type": "execute_result"
    }
   ],
   "source": [
    "am_df = pd.read_csv('data/auto-mpg-cleaned.csv')  # load the dataset\n",
    "am_df.sample(5)  # show a few random rows from the dataset"
   ]
  },
  {
   "cell_type": "code",
   "execution_count": 30,
   "id": "df912c18",
   "metadata": {},
   "outputs": [],
   "source": [
    "X = am_df[['horsepower']]  # independent variable (input)\n",
    "Y = am_df['mpg']  # dependent variable (output) \n",
    "x_train, x_test, y_train, y_test = train_test_split(X, Y, test_size=0.2, random_state=42)  # split the data into training and testing sets\n"
   ]
  },
  {
   "cell_type": "code",
   "execution_count": 31,
   "id": "7bd2a05d",
   "metadata": {},
   "outputs": [
    {
     "name": "stdout",
     "output_type": "stream",
     "text": [
      "Training Score: 0.6102025443737438\n"
     ]
    }
   ],
   "source": [
    "model = LinearRegression().fit(x_train, y_train)  # create a linear regression model\n",
    "print(f\"Training Score: {model.score(x_train, y_train)}\")  # print the model coefficients and intercept"
   ]
  },
  {
   "cell_type": "code",
   "execution_count": 32,
   "id": "dbacb8d8",
   "metadata": {},
   "outputs": [],
   "source": [
    "y_pred = model.predict(x_test)  # make predictions on the test set"
   ]
  },
  {
   "cell_type": "code",
   "execution_count": 33,
   "id": "4e1a93ef",
   "metadata": {},
   "outputs": [
    {
     "name": "stdout",
     "output_type": "stream",
     "text": [
      "R^2 Score: 0.577738848858589\n"
     ]
    }
   ],
   "source": [
    "print(f\"R^2 Score: {r2_score(y_test, y_pred)}\")  # print the R^2 score"
   ]
  },
  {
   "cell_type": "code",
   "execution_count": 34,
   "id": "a9aaca6a",
   "metadata": {},
   "outputs": [
    {
     "data": {
      "image/png": "[encoded data removed]",
      "text/plain": [
       "<Figure size 1000x600 with 1 Axes>"
      ]
     },
     "metadata": {},
     "output_type": "display_data"
    }
   ],
   "source": [
    "fig, ax = plt.subplots(figsize=(10, 6))  # create a figure and axis for the plot\n",
    "plt.scatter(x_test, y_test, color='blue', label='Actual')  # plot the actual data points\n",
    "plt.plot(x_test, y_pred, color='red', label='Predicted')  # plot the predicted data points\n",
    "plt.xlabel('Horsepower')  # label for the x-axis\n",
    "plt.ylabel('Miles Per Gallon (MPG)')  # label for the y-axis    \n",
    "plt.show()  # display the plot"
   ]
  },
  {
   "cell_type": "code",
   "execution_count": null,
   "id": "2bb1b425",
   "metadata": {},
   "outputs": [],
   "source": [
    "X = am_df[['age']]  # independent variable (input)\n",
    "Y = am_df['mpg']  # dependent variable (output) \n",
    "x_train, x_test, y_train, y_test = train_test_split(X, Y, test_size=0.2, random_state=42)  # split the data into training and testing sets\n",
    "model = LinearRegression().fit(x_train, y_train)  # create a linear regression model"
   ]
  },
  {
   "cell_type": "code",
   "execution_count": 36,
   "id": "b2347aa4",
   "metadata": {},
   "outputs": [
    {
     "name": "stdout",
     "output_type": "stream",
     "text": [
      "Training Score: 0.3574370422288594\n",
      "R^2 Score: 0.23910271230138802\n"
     ]
    }
   ],
   "source": [
    "print(f\"Training Score: {model.score(x_train, y_train)}\")  # print the model coefficients and intercept\n",
    "y_pred = model.predict(x_test)  # make predictions on the test set\n",
    "print(f\"R^2 Score: {r2_score(y_test, y_pred)}\")  # print the R^2 score"
   ]
  },
  {
   "cell_type": "code",
   "execution_count": 39,
   "id": "aeea559d",
   "metadata": {},
   "outputs": [
    {
     "data": {
      "image/png": "[encoded data removed]",
      "text/plain": [
       "<Figure size 1000x600 with 1 Axes>"
      ]
     },
     "metadata": {},
     "output_type": "display_data"
    }
   ],
   "source": [
    "fig, ax = plt.subplots(figsize=(10, 6))  # create a figure and axis for the plot\n",
    "plt.scatter(x_test, y_test, color='blue', label='Actual')  # plot the actual data points\n",
    "plt.plot(x_test, y_pred, color='red', label='Predicted')  # plot the predicted data points\n",
    "plt.xlabel('Age')  # label for the x-axis\n",
    "plt.ylabel('Miles Per Gallon (MPG)')  # label for the y-axis    \n",
    "ax.set_box_aspect(0.4)  # set aspect ratio (height/width)\n",
    "plt.show()  # display the plot"
   ]
  }
 ],
 "metadata": {
  "kernelspec": {
   "display_name": ".venv",
   "language": "python",
   "name": "python3"
  },
  "language_info": {
   "codemirror_mode": {
    "name": "ipython",
    "version": 3
   },
   "file_extension": ".py",
   "mimetype": "text/x-python",
   "name": "python",
   "nbconvert_exporter": "python",
   "pygments_lexer": "ipython3",
   "version": "3.13.5"
  }
 },
 "nbformat": 4,
 "nbformat_minor": 5
}
